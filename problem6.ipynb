{
 "cells": [
  {
   "cell_type": "markdown",
   "metadata": {},
   "source": [
    "\n",
    "### Sum square difference\n",
    "The sum of the squares of the first ten natural numbers is, (1+4+9+...100 =385)\n",
    "\n",
    "The square of the sum of the first ten natural numbers is, (1+2+...10)=55**2 = 3025\n",
    "\n",
    "Hence the difference between the sum of the squares of the first ten natural numbers and the square of the sum is . (3025-385 = 2640)\n",
    "\n",
    "Find the difference between the sum of the squares of the first one hundred natural numbers and the square of the sum."
   ]
  },
  {
   "cell_type": "code",
   "execution_count": 1,
   "metadata": {},
   "outputs": [
    {
     "name": "stdout",
     "output_type": "stream",
     "text": [
      "338350\n",
      "25502500\n",
      "25164150\n"
     ]
    }
   ],
   "source": [
    "sum_of_sqr = 0\n",
    "sum_of_num = 0\n",
    "for i in range(1,101):\n",
    "    sum_of_sqr += pow(i,2)\n",
    "for k in range(1,101):\n",
    "    sum_of_num += k\n",
    "sqr_of_sum = pow(sum_of_num,2)\n",
    "print(sum_of_sqr)\n",
    "print(sqr_of_sum)\n",
    "print(sqr_of_sum-sum_of_sqr)\n",
    "    "
   ]
  },
  {
   "cell_type": "code",
   "execution_count": null,
   "metadata": {},
   "outputs": [],
   "source": []
  }
 ],
 "metadata": {
  "interpreter": {
   "hash": "df49366fda7ee0f36d4c8045f54f6f67300670dccd947b73953dbfe661710dcc"
  },
  "kernelspec": {
   "display_name": "Python 3.9.7 ('base')",
   "language": "python",
   "name": "python3"
  },
  "language_info": {
   "codemirror_mode": {
    "name": "ipython",
    "version": 3
   },
   "file_extension": ".py",
   "mimetype": "text/x-python",
   "name": "python",
   "nbconvert_exporter": "python",
   "pygments_lexer": "ipython3",
   "version": "3.9.7"
  },
  "orig_nbformat": 4
 },
 "nbformat": 4,
 "nbformat_minor": 2
}
